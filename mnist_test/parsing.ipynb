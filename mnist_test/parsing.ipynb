{
 "cells": [
  {
   "cell_type": "code",
   "execution_count": 1,
   "id": "c218125e",
   "metadata": {},
   "outputs": [],
   "source": [
    "#Parsing\n",
    "\n",
    "%matplotlib inline\n",
    "import tensorflow as tf\n",
    "\n",
    "from IPython.display import SVG\n",
    "from hailo_sdk_client import ClientRunner\n",
    "\n",
    "model_name = 'mnist'\n",
    "model_path = 'mnist_saved_model/saved_model.pb'\n",
    "\n",
    "# Parsing the model to Hailo format\n",
    "#ClientRunner - Main API for parsing\n",
    "runner = ClientRunner(hw_arch='hailo8')\n"
   ]
  },
  {
   "cell_type": "code",
   "execution_count": 2,
   "id": "c3661bdc",
   "metadata": {},
   "outputs": [
    {
     "name": "stdout",
     "output_type": "stream",
     "text": [
      "INFO:tensorflow:Restoring parameters from /tmp/tmpdicdi4wq/variables.ckpt\n",
      "[info] Translation completed on TensorFlow 2.x model mnist\n"
     ]
    },
    {
     "name": "stderr",
     "output_type": "stream",
     "text": [
      "2023-04-10 16:27:41.994890: I tensorflow/core/platform/cpu_feature_guard.cc:193] This TensorFlow binary is optimized with oneAPI Deep Neural Network Library (oneDNN) to use the following CPU instructions in performance-critical operations:  AVX2 FMA\n",
      "To enable them in other operations, rebuild TensorFlow with the appropriate compiler flags.\n",
      "2023-04-10 16:27:41.997139: W tensorflow/stream_executor/platform/default/dso_loader.cc:64] Could not load dynamic library 'libcuda.so.1'; dlerror: libcuda.so.1: cannot open shared object file: No such file or directory; LD_LIBRARY_PATH: /usr/local/nvidia/lib:/usr/local/nvidia/lib64\n",
      "2023-04-10 16:27:41.997152: W tensorflow/stream_executor/cuda/cuda_driver.cc:269] failed call to cuInit: UNKNOWN ERROR (303)\n",
      "2023-04-10 16:27:41.997164: I tensorflow/stream_executor/cuda/cuda_diagnostics.cc:156] kernel driver does not appear to be running on this host (DESKTOP-FNN0JLC): /proc/driver/nvidia/version does not exist\n",
      "2023-04-10 16:27:42.044514: I tensorflow/compiler/mlir/mlir_graph_optimization_pass.cc:354] MLIR V1 optimization pass is not enabled\n"
     ]
    },
    {
     "name": "stdout",
     "output_type": "stream",
     "text": [
      "[info] Initialized runner for mnist\n"
     ]
    }
   ],
   "source": [
    "#Parses a TF model given a SavedModel file.\n",
    "#The HN model is a JSON representation of the graph structure that is deployed to\n",
    "#the Hailo hardware. The weights are also returned as a NumPy NPZ file.\n",
    "hn, npz = runner.translate_tf_model(model_path, model_name) \n"
   ]
  },
  {
   "cell_type": "code",
   "execution_count": 3,
   "id": "cf914d2b",
   "metadata": {},
   "outputs": [],
   "source": [
    "#The HAR copmressed file includes HN and NPZ files\n",
    "hailo_model_har_name = '{}_hailo_model.har'.format(model_name)\n",
    "runner.save_har(hailo_model_har_name)\n"
   ]
  },
  {
   "cell_type": "code",
   "execution_count": 4,
   "id": "e337fec9",
   "metadata": {},
   "outputs": [
    {
     "data": {
      "image/svg+xml": [
       "<svg xmlns=\"http://www.w3.org/2000/svg\" xmlns:xlink=\"http://www.w3.org/1999/xlink\" width=\"159pt\" height=\"479pt\" viewBox=\"0.00 0.00 158.79 479.00\">\n",
       "<g id=\"graph0\" class=\"graph\" transform=\"scale(1 1) rotate(0) translate(4 475)\">\n",
       "<polygon fill=\"white\" stroke=\"transparent\" points=\"-4,4 -4,-475 154.79,-475 154.79,4 -4,4\"/>\n",
       "<!-- input_layer1 -->\n",
       "<g id=\"node1\" class=\"node\">\n",
       "<title>input_layer1</title>\n",
       "<ellipse fill=\"none\" stroke=\"black\" cx=\"75.39\" cy=\"-453\" rx=\"68.79\" ry=\"18\"/>\n",
       "<text text-anchor=\"middle\" x=\"75.39\" y=\"-449.3\" font-family=\"Times,serif\" font-size=\"14.00\">input_layer1</text>\n",
       "</g>\n",
       "<!-- fc1 +Relu -->\n",
       "<g id=\"node2\" class=\"node\">\n",
       "<title>fc1 +Relu</title>\n",
       "<ellipse fill=\"none\" stroke=\"black\" cx=\"75.39\" cy=\"-366\" rx=\"56.59\" ry=\"18\"/>\n",
       "<text text-anchor=\"middle\" x=\"75.39\" y=\"-362.3\" font-family=\"Times,serif\" font-size=\"14.00\">fc1 +Relu</text>\n",
       "</g>\n",
       "<!-- input_layer1&#45;&gt;fc1 +Relu -->\n",
       "<g id=\"edge1\" class=\"edge\">\n",
       "<title>input_layer1-&gt;fc1 +Relu</title>\n",
       "<path fill=\"none\" stroke=\"black\" d=\"M75.39,-434.8C75.39,-423.16 75.39,-407.55 75.39,-394.24\"/>\n",
       "<polygon fill=\"black\" stroke=\"black\" points=\"78.89,-394.18 75.39,-384.18 71.89,-394.18 78.89,-394.18\"/>\n",
       "<text text-anchor=\"middle\" x=\"105.89\" y=\"-405.8\" font-family=\"Times,serif\" font-size=\"14.00\">[-1, 784]</text>\n",
       "</g>\n",
       "<!-- fc2 +Relu -->\n",
       "<g id=\"node3\" class=\"node\">\n",
       "<title>fc2 +Relu</title>\n",
       "<ellipse fill=\"none\" stroke=\"black\" cx=\"75.39\" cy=\"-279\" rx=\"56.59\" ry=\"18\"/>\n",
       "<text text-anchor=\"middle\" x=\"75.39\" y=\"-275.3\" font-family=\"Times,serif\" font-size=\"14.00\">fc2 +Relu</text>\n",
       "</g>\n",
       "<!-- fc1 +Relu&#45;&gt;fc2 +Relu -->\n",
       "<g id=\"edge2\" class=\"edge\">\n",
       "<title>fc1 +Relu-&gt;fc2 +Relu</title>\n",
       "<path fill=\"none\" stroke=\"black\" d=\"M75.39,-347.8C75.39,-336.16 75.39,-320.55 75.39,-307.24\"/>\n",
       "<polygon fill=\"black\" stroke=\"black\" points=\"78.89,-307.18 75.39,-297.18 71.89,-307.18 78.89,-307.18\"/>\n",
       "<text text-anchor=\"middle\" x=\"105.89\" y=\"-318.8\" font-family=\"Times,serif\" font-size=\"14.00\">[-1, 512]</text>\n",
       "</g>\n",
       "<!-- fc3 -->\n",
       "<g id=\"node4\" class=\"node\">\n",
       "<title>fc3</title>\n",
       "<ellipse fill=\"none\" stroke=\"black\" cx=\"75.39\" cy=\"-192\" rx=\"27\" ry=\"18\"/>\n",
       "<text text-anchor=\"middle\" x=\"75.39\" y=\"-188.3\" font-family=\"Times,serif\" font-size=\"14.00\">fc3</text>\n",
       "</g>\n",
       "<!-- fc2 +Relu&#45;&gt;fc3 -->\n",
       "<g id=\"edge3\" class=\"edge\">\n",
       "<title>fc2 +Relu-&gt;fc3</title>\n",
       "<path fill=\"none\" stroke=\"black\" d=\"M75.39,-260.8C75.39,-249.16 75.39,-233.55 75.39,-220.24\"/>\n",
       "<polygon fill=\"black\" stroke=\"black\" points=\"78.89,-220.18 75.39,-210.18 71.89,-220.18 78.89,-220.18\"/>\n",
       "<text text-anchor=\"middle\" x=\"105.89\" y=\"-231.8\" font-family=\"Times,serif\" font-size=\"14.00\">[-1, 128]</text>\n",
       "</g>\n",
       "<!-- softmax1 -->\n",
       "<g id=\"node5\" class=\"node\">\n",
       "<title>softmax1</title>\n",
       "<ellipse fill=\"none\" stroke=\"black\" cx=\"75.39\" cy=\"-105\" rx=\"53.89\" ry=\"18\"/>\n",
       "<text text-anchor=\"middle\" x=\"75.39\" y=\"-101.3\" font-family=\"Times,serif\" font-size=\"14.00\">softmax1</text>\n",
       "</g>\n",
       "<!-- fc3&#45;&gt;softmax1 -->\n",
       "<g id=\"edge4\" class=\"edge\">\n",
       "<title>fc3-&gt;softmax1</title>\n",
       "<path fill=\"none\" stroke=\"black\" d=\"M75.39,-173.8C75.39,-162.16 75.39,-146.55 75.39,-133.24\"/>\n",
       "<polygon fill=\"black\" stroke=\"black\" points=\"78.89,-133.18 75.39,-123.18 71.89,-133.18 78.89,-133.18\"/>\n",
       "<text text-anchor=\"middle\" x=\"101.39\" y=\"-144.8\" font-family=\"Times,serif\" font-size=\"14.00\">[-1, 10]</text>\n",
       "</g>\n",
       "<!-- output_layer1 -->\n",
       "<g id=\"node6\" class=\"node\">\n",
       "<title>output_layer1</title>\n",
       "<ellipse fill=\"none\" stroke=\"black\" cx=\"75.39\" cy=\"-18\" rx=\"75.29\" ry=\"18\"/>\n",
       "<text text-anchor=\"middle\" x=\"75.39\" y=\"-14.3\" font-family=\"Times,serif\" font-size=\"14.00\">output_layer1</text>\n",
       "</g>\n",
       "<!-- softmax1&#45;&gt;output_layer1 -->\n",
       "<g id=\"edge5\" class=\"edge\">\n",
       "<title>softmax1-&gt;output_layer1</title>\n",
       "<path fill=\"none\" stroke=\"black\" d=\"M75.39,-86.8C75.39,-75.16 75.39,-59.55 75.39,-46.24\"/>\n",
       "<polygon fill=\"black\" stroke=\"black\" points=\"78.89,-46.18 75.39,-36.18 71.89,-46.18 78.89,-46.18\"/>\n",
       "<text text-anchor=\"middle\" x=\"101.39\" y=\"-57.8\" font-family=\"Times,serif\" font-size=\"14.00\">[-1, 10]</text>\n",
       "</g>\n",
       "</g>\n",
       "</svg>"
      ],
      "text/plain": [
       "<IPython.core.display.SVG object>"
      ]
     },
     "execution_count": 4,
     "metadata": {},
     "output_type": "execute_result"
    }
   ],
   "source": [
    "#The hailo visualizer saves an SVG file with the layers of the model\n",
    "!hailo visualizer {hailo_model_har_name} --no-browser\n",
    "SVG('mnist.svg')"
   ]
  },
  {
   "cell_type": "code",
   "execution_count": 5,
   "id": "443abb2b",
   "metadata": {
    "scrolled": false
   },
   "outputs": [
    {
     "name": "stdout",
     "output_type": "stream",
     "text": [
      "2023-04-10 16:27:59.854733: W tensorflow/stream_executor/platform/default/dso_loader.cc:64] Could not load dynamic library 'libcuda.so.1'; dlerror: libcuda.so.1: cannot open shared object file: No such file or directory; LD_LIBRARY_PATH: /usr/local/nvidia/lib:/usr/local/nvidia/lib64\n",
      "2023-04-10 16:27:59.854769: W tensorflow/stream_executor/cuda/cuda_driver.cc:269] failed call to cuInit: UNKNOWN ERROR (303)\n",
      "2023-04-10 16:27:59.854783: I tensorflow/stream_executor/cuda/cuda_diagnostics.cc:156] kernel driver does not appear to be running on this host (DESKTOP-FNN0JLC): /proc/driver/nvidia/version does not exist\n",
      "[\u001b[33;1mwarning\u001b[0m] Reducing optimization level to 0 (the accuracy won't be optimized and compression won't be used) because there's no available GPU\n",
      "[\u001b[32minfo\u001b[m] Starting Hailo context-partitioner flow\n",
      "[\u001b[32minfo\u001b[m] Resources optimization guidelines: Strategy -> GREEDY Objective -> MAX_FPS\n",
      "[\u001b[32minfo\u001b[m] Using Single-context flow\n",
      "[\u001b[32minfo\u001b[m] Resources optimization params: max_control_utilization=75%, max_compute_utilization=75%, max_memory_utilization (weights)=75%, max_input_aligner_utilization=75%, max_apu_utilization=75%\n",
      "[\u001b[32minfo\u001b[m] \u001b[1;32mSuccessful Context-Partition\u001b[0m\n",
      "[\u001b[32minfo\u001b[m] \n",
      "+---------------------------------------------------------------------------------------------------------------------------------+-------------+-----------------------+-----------------------+----------------+\n",
      "| Node                                                                                                                            | Subclusters | L3 Weight Memory Cuts | L3 Output Memory Cuts | L4 Memory Cuts |\n",
      "+---------------------------------------------------------------------------------------------------------------------------------+-------------+-----------------------+-----------------------+----------------+\n",
      "| input_layer1                                                                                                                    | 0           | 0                     | 0                     | 0.500          |\n",
      "| shortcut_from_input_layer1_to_fc1_d0-3                                                                                          | 1           | 0                     | 4                     | 0.000          |\n",
      "| fc1_d0                                                                                                                          | 4           | 4                     | 1                     | 0.000          |\n",
      "| fc1_d1                                                                                                                          | 4           | 4                     | 1                     | 0.000          |\n",
      "| fc1_d2                                                                                                                          | 4           | 4                     | 1                     | 0.000          |\n",
      "| concat_from_fc1_d0-2_to_fc1_dc                                                                                                  | 1           | 0                     | 1                     | 0.000          |\n",
      "| fc1_d3                                                                                                                          | 4           | 4                     | 1                     | 0.000          |\n",
      "| shortcut_from_input_layer1_to_fc1_d4-7                                                                                          | 1           | 0                     | 4                     | 0.000          |\n",
      "| fc1_d4                                                                                                                          | 4           | 4                     | 1                     | 0.000          |\n",
      "| fc1_d5                                                                                                                          | 4           | 4                     | 1                     | 0.000          |\n",
      "| concat_from_fc1_d3-5_to_fc1_dc                                                                                                  | 1           | 0                     | 1                     | 0.000          |\n",
      "| fc1_d6                                                                                                                          | 4           | 4                     | 1                     | 0.000          |\n",
      "| fc1_d7                                                                                                                          | 4           | 4                     | 1                     | 0.000          |\n",
      "| shortcut_from_input_layer1_to_fc1_d8-11                                                                                         | 1           | 0                     | 4                     | 0.000          |\n",
      "| fc1_d8                                                                                                                          | 4           | 4                     | 1                     | 0.000          |\n",
      "| concat_from_fc1_d6-8_to_fc1_dc                                                                                                  | 1           | 0                     | 1                     | 0.000          |\n",
      "| concat_from_concat_from_fc1_d0-2_to_fc1_dc_concat_from_fc1_d3-5_to_fc1_dc_concat_from_fc1_d6-8_to_fc1_dc_to_fc1_dc              | 1           | 0                     | 1                     | 0.000          |\n",
      "| fc1_d9                                                                                                                          | 4           | 4                     | 1                     | 0.000          |\n",
      "| fc1_d10                                                                                                                         | 4           | 4                     | 1                     | 0.000          |\n",
      "| fc1_d11                                                                                                                         | 4           | 4                     | 1                     | 0.000          |\n",
      "| concat_from_fc1_d9-11_to_fc1_dc                                                                                                 | 1           | 0                     | 1                     | 0.000          |\n",
      "| shortcut_from_input_layer1_to_fc1_d12-15                                                                                        | 1           | 0                     | 4                     | 0.000          |\n",
      "| fc1_d12                                                                                                                         | 4           | 4                     | 1                     | 0.000          |\n",
      "| fc1_d13                                                                                                                         | 4           | 4                     | 1                     | 0.000          |\n",
      "| fc1_d14                                                                                                                         | 4           | 4                     | 1                     | 0.000          |\n",
      "| concat_from_fc1_d12-14_to_fc1_dc                                                                                                | 1           | 0                     | 1                     | 0.000          |\n",
      "| concat_from_concat_from_concat_from_fc1_d0-2_to_fc1_dc_concat_from_fc1_d3-5_to_fc1_dc_concat_from_fc1_d6-8_to_fc1_dc_to_fc1_dc_ | 1           | 0                     | 1                     | 0.000          |\n",
      "| fc1_d15                                                                                                                         | 4           | 4                     | 1                     | 0.000          |\n",
      "| fc1_dc                                                                                                                          | 1           | 0                     | 4                     | 0.000          |\n",
      "| shortcut_from_fc1_to_fc2_d0-3                                                                                                   | 1           | 0                     | 4                     | 0.000          |\n",
      "| fc2_d0                                                                                                                          | 1           | 1                     | 1                     | 0.000          |\n",
      "| fc2_d1                                                                                                                          | 1           | 1                     | 1                     | 0.000          |\n",
      "| fc2_d2                                                                                                                          | 1           | 1                     | 1                     | 0.000          |\n",
      "| fc2_d3                                                                                                                          | 1           | 1                     | 1                     | 0.000          |\n",
      "| concat_from_fc2_d0-3_to_fc2_dc                                                                                                  | 1           | 0                     | 1                     | 0.000          |\n",
      "| shortcut_from_fc1_to_fc2_d4-7                                                                                                   | 1           | 0                     | 4                     | 0.000          |\n",
      "| fc2_d4                                                                                                                          | 1           | 1                     | 1                     | 0.000          |\n",
      "| fc2_d5                                                                                                                          | 1           | 1                     | 1                     | 0.000          |\n",
      "| fc2_d6                                                                                                                          | 1           | 1                     | 1                     | 0.000          |\n",
      "| fc2_d7                                                                                                                          | 1           | 1                     | 1                     | 0.000          |\n",
      "| concat_from_fc2_d4-7_to_fc2_dc                                                                                                  | 1           | 0                     | 1                     | 0.000          |\n",
      "| shortcut_from_fc1_to_fc2_d8-11                                                                                                  | 1           | 0                     | 4                     | 0.000          |\n",
      "| fc2_d8                                                                                                                          | 1           | 1                     | 1                     | 0.000          |\n",
      "| fc2_d9                                                                                                                          | 1           | 1                     | 1                     | 0.000          |\n",
      "| fc2_d10                                                                                                                         | 1           | 1                     | 1                     | 0.000          |\n",
      "| fc2_d11                                                                                                                         | 1           | 1                     | 1                     | 0.000          |\n",
      "| concat_from_fc2_d8-11_to_fc2_dc                                                                                                 | 1           | 0                     | 1                     | 0.000          |\n",
      "| shortcut_from_fc1_to_fc2_d12-15                                                                                                 | 1           | 0                     | 4                     | 0.000          |\n",
      "| fc2_d12                                                                                                                         | 1           | 1                     | 1                     | 0.000          |\n",
      "| fc2_d13                                                                                                                         | 1           | 1                     | 1                     | 0.000          |\n",
      "| fc2_d14                                                                                                                         | 1           | 1                     | 1                     | 0.000          |\n",
      "| fc2_d15                                                                                                                         | 1           | 1                     | 1                     | 0.000          |\n",
      "| concat_from_fc2_d12-15_to_fc2_dc                                                                                                | 1           | 0                     | 1                     | 0.000          |\n",
      "| fc2_dc                                                                                                                          | 1           | 0                     | 2                     | 0.000          |\n",
      "| fc3_d0                                                                                                                          | 1           | 1                     | 1                     | 0.000          |\n",
      "| fc3_d1                                                                                                                          | 1           | 1                     | 1                     | 0.000          |\n",
      "| fc3_dc                                                                                                                          | 1           | 0                     | 1                     | 0.000          |\n",
      "| softmax1                                                                                                                        | 0           | 0                     | 0                     | 1.000          |\n",
      "| output_layer1                                                                                                                   | 0           | 0                     | 0                     | 0.500          |\n",
      "+---------------------------------------------------------------------------------------------------------------------------------+-------------+-----------------------+-----------------------+----------------+\n",
      "TOTAL:  LCUs: 56 (43.75%), Subclusters: 104 (20.3125%), Weight memory cuts:82 (8.00781%), L3 Output memory cuts: 84 (8.20312%), L3 total cuts: 166 (16.2109%), L4 memory cuts: 1 (3.57143%)\n"
     ]
    },
    {
     "name": "stdout",
     "output_type": "stream",
     "text": [
      "Traceback (most recent call last):\r\n",
      "  File \"/local/workspace/hailo_virtualenv/bin/hailo\", line 8, in <module>\r\n",
      "    sys.exit(main())\r\n",
      "  File \"/local/workspace/hailo_virtualenv/lib/python3.8/site-packages/hailo_sdk_client/tools/cmd_utils/main.py\", line 32, in main\r\n",
      "    ret_val = client_command_runner.run()\r\n",
      "  File \"/local/workspace/hailo_virtualenv/lib/python3.8/site-packages/hailo_platform/tools/hailocli/main.py\", line 58, in run\r\n",
      "    return self._run(argv)\r\n",
      "  File \"/local/workspace/hailo_virtualenv/lib/python3.8/site-packages/hailo_platform/tools/hailocli/main.py\", line 97, in _run\r\n",
      "    return args.func(args)\r\n",
      "  File \"/local/workspace/hailo_virtualenv/lib/python3.8/site-packages/hailo_sdk_client/tools/profiler/profiler.py\", line 134, in run\r\n",
      "    profile(args.model_path, args.hw_arch, args.fps, args.out_path, args.mode, args.quantized_params,\r\n",
      "  File \"/local/workspace/hailo_virtualenv/lib/python3.8/site-packages/hailo_sdk_client/tools/profiler/profiler.py\", line 67, in profile\r\n",
      "    stats, csv_data, latency_data, accuracy_data = runner.profile(profiling_mode=profiling_mode,\r\n",
      "  File \"/local/workspace/hailo_virtualenv/lib/python3.8/site-packages/hailo_sdk_client/runner/client_runner.py\", line 1124, in profile\r\n",
      "    return self._profile(None, profiling_mode, should_use_logical_layers, None, hef_filename, runtime_data,\r\n",
      "  File \"/local/workspace/hailo_virtualenv/lib/python3.8/site-packages/hailo_sdk_common/states/states.py\", line 16, in wrapped_func\r\n",
      "    return func(self, *args, **kwargs)\r\n",
      "  File \"/local/workspace/hailo_virtualenv/lib/python3.8/site-packages/hailo_sdk_client/runner/client_runner.py\", line 1183, in _profile\r\n",
      "    return self._sdk_backend.profile(fps, profiling_mode, should_use_logical_layers,\r\n",
      "  File \"/local/workspace/hailo_virtualenv/lib/python3.8/site-packages/hailo_sdk_client/sdk_backend/sdk_backend.py\", line 1368, in profile\r\n",
      "    estimator, auto_alls = allocator.run_estimator('network.pb', 'mapped_graph.pb', profiling_mode, model,\r\n",
      "  File \"/local/workspace/hailo_virtualenv/lib/python3.8/site-packages/hailo_sdk_client/allocator/hailo_tools_runner.py\", line 307, in run_estimator\r\n",
      "    estimator = self._init_estimator(self._output_integrated_pb_graph, profiling_mode, original_hailo_nn,\r\n",
      "  File \"/local/workspace/hailo_virtualenv/lib/python3.8/site-packages/hailo_sdk_client/allocator/hailo_tools_runner.py\", line 318, in _init_estimator\r\n",
      "    return Estimator(self.hw_arch, mapped_graph_data, self.hn, self._clk_freq, self._fps, profiling_mode,\r\n",
      "  File \"/local/workspace/hailo_virtualenv/lib/python3.8/site-packages/hailo_sdk_client/allocator/estimator.py\", line 423, in __init__\r\n",
      "    self._parse_resources()\r\n",
      "  File \"/local/workspace/hailo_virtualenv/lib/python3.8/site-packages/hailo_sdk_client/allocator/estimator.py\", line 1140, in _parse_resources\r\n",
      "    row = self._row(resources)\r\n",
      "  File \"/local/workspace/hailo_virtualenv/lib/python3.8/site-packages/hailo_sdk_client/allocator/estimator.py\", line 848, in _row\r\n",
      "    row.update(self._add_layer_shapes(resources))\r\n",
      "  File \"/local/workspace/hailo_virtualenv/lib/python3.8/site-packages/hailo_sdk_client/allocator/estimator.py\", line 693, in _add_layer_shapes\r\n",
      "    row = self._add_network_information_to_layer(hn_layer, self._hn)\r\n",
      "  File \"/local/workspace/hailo_virtualenv/lib/python3.8/site-packages/hailo_sdk_client/allocator/estimator.py\", line 553, in _add_network_information_to_layer\r\n",
      "    self._set_hn_layer_attr(row, FIELDS.WIDTH, hn_layer, 'input_width')\r\n",
      "  File \"/local/workspace/hailo_virtualenv/lib/python3.8/site-packages/hailo_sdk_client/allocator/estimator.py\", line 531, in _set_hn_layer_attr\r\n",
      "    if hasattr(hn_layer, attribute):\r\n",
      "  File \"/local/workspace/hailo_virtualenv/lib/python3.8/site-packages/hailo_sdk_common/hailo_nn/hn_layers/layer.py\", line 648, in input_width\r\n",
      "    return self._get_shape_single_dim(self._input_shapes, 2)\r\n",
      "  File \"/local/workspace/hailo_virtualenv/lib/python3.8/site-packages/hailo_sdk_common/hailo_nn/hn_layers/layer.py\", line 618, in _get_shape_single_dim\r\n",
      "    self._validate_all_dims_are_equal(shapes, dim)\r\n",
      "  File \"/local/workspace/hailo_virtualenv/lib/python3.8/site-packages/hailo_sdk_common/hailo_nn/hn_layers/layer.py\", line 613, in _validate_all_dims_are_equal\r\n",
      "    if any(shapes[0][dim] != shape[dim] for shape in shapes):\r\n",
      "  File \"/local/workspace/hailo_virtualenv/lib/python3.8/site-packages/hailo_sdk_common/hailo_nn/hn_layers/layer.py\", line 613, in <genexpr>\r\n",
      "    if any(shapes[0][dim] != shape[dim] for shape in shapes):\r\n",
      "IndexError: list index out of range\r\n"
     ]
    }
   ],
   "source": [
    "#The profiler tool uses the HAR file and profiles the expected performance of the model on hardware.\n",
    "!hailo profiler --mode pre_placement {hailo_model_har_name}"
   ]
  }
 ],
 "metadata": {
  "kernelspec": {
   "display_name": "Python 3 (ipykernel)",
   "language": "python",
   "name": "python3"
  },
  "language_info": {
   "codemirror_mode": {
    "name": "ipython",
    "version": 3
   },
   "file_extension": ".py",
   "mimetype": "text/x-python",
   "name": "python",
   "nbconvert_exporter": "python",
   "pygments_lexer": "ipython3",
   "version": "3.8.10"
  }
 },
 "nbformat": 4,
 "nbformat_minor": 5
}
