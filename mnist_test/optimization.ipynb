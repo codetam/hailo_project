{
 "cells": [
  {
   "cell_type": "code",
   "execution_count": 1,
   "id": "aa125845",
   "metadata": {},
   "outputs": [],
   "source": [
    "#Getting the dataset\n",
    "from tensorflow.keras.datasets import mnist\n",
    "(train_images, train_labels), (test_images, test_labels) = mnist.load_data()\n",
    "train_images = train_images.reshape((60000, 28 * 28))\n",
    "train_images = train_images.astype(\"float32\") / 255\n",
    "test_images = test_images.reshape((10000, 28 * 28))\n",
    "test_images = test_images.astype(\"float32\") / 255\n",
    "\n",
    "#Calibration dataset (recommended > 1024)\n",
    "#used to gather activation statistics in the inputs/outputs of each layer\n",
    "#The dataset is already normalized\n",
    "calib_dataset = test_images[0:2000]"
   ]
  },
  {
   "cell_type": "code",
   "execution_count": 2,
   "id": "92acdb73",
   "metadata": {},
   "outputs": [
    {
     "name": "stdout",
     "output_type": "stream",
     "text": [
      "[info] Starting Model Optimization\n"
     ]
    },
    {
     "name": "stderr",
     "output_type": "stream",
     "text": [
      "2023-04-10 16:28:28.088457: W tensorflow/stream_executor/platform/default/dso_loader.cc:64] Could not load dynamic library 'libcuda.so.1'; dlerror: libcuda.so.1: cannot open shared object file: No such file or directory; LD_LIBRARY_PATH: /usr/local/nvidia/lib:/usr/local/nvidia/lib64\n",
      "2023-04-10 16:28:28.088491: W tensorflow/stream_executor/cuda/cuda_driver.cc:269] failed call to cuInit: UNKNOWN ERROR (303)\n",
      "2023-04-10 16:28:28.088506: I tensorflow/stream_executor/cuda/cuda_diagnostics.cc:156] kernel driver does not appear to be running on this host (DESKTOP-FNN0JLC): /proc/driver/nvidia/version does not exist\n",
      "2023-04-10 16:28:28.088709: I tensorflow/core/platform/cpu_feature_guard.cc:193] This TensorFlow binary is optimized with oneAPI Deep Neural Network Library (oneDNN) to use the following CPU instructions in performance-critical operations:  AVX2 FMA\n",
      "To enable them in other operations, rebuild TensorFlow with the appropriate compiler flags.\n"
     ]
    },
    {
     "name": "stdout",
     "output_type": "stream",
     "text": [
      "[warning] Reducing optimization level to 0 (the accuracy won't be optimized and compression won't be used) because there's no available GPU\n",
      "[info] Using calibration set of 64 entries\n",
      "[info] Starting Stats Collector\n"
     ]
    },
    {
     "name": "stderr",
     "output_type": "stream",
     "text": [
      "Calibration: 100%|█████████████████████████████████████████████████████████████████| 64/64 [00:02<00:00, 25.71entries/s]"
     ]
    },
    {
     "name": "stdout",
     "output_type": "stream",
     "text": [
      "[info] Stats Collector is done (completion time is 00:00:02.60)\n"
     ]
    },
    {
     "name": "stderr",
     "output_type": "stream",
     "text": [
      "\n"
     ]
    },
    {
     "name": "stdout",
     "output_type": "stream",
     "text": [
      "[info] No shifts available for layer mnist/fc1/dense_op, using max shift instead. delta=1.2123495673798823\n",
      "[info] Bias Correction skipped\n",
      "[info] Adaround skipped\n",
      "[info] Fine Tune skipped\n",
      "[info] Model Optimization is done\n"
     ]
    }
   ],
   "source": [
    "from hailo_sdk_client import ClientRunner\n",
    "import os\n",
    "runner = ClientRunner(hw_arch='hailo8')\n",
    "\n",
    "model_name = 'mnist'  \n",
    "hailo_model_har_name = '{}_hailo_model.har'.format(model_name)\n",
    "assert os.path.isfile(hailo_model_har_name), 'Please provide valid path for HAR file'\n",
    "runner = ClientRunner(hw_arch='hailo8', har_path=hailo_model_har_name)\n",
    "\n",
    "#There can be a script to change the model (normalize or resize the input, ...)\n",
    "\n",
    "#runner.load_model_script('script.alls')\n",
    "\n",
    "#After the statistics are collected, they are used to quantize the weights and activtions, \n",
    "#that is, map the floating point values into integer representation\n",
    "runner.optimize(calib_dataset)"
   ]
  },
  {
   "cell_type": "code",
   "execution_count": 3,
   "id": "aa07fd3b",
   "metadata": {},
   "outputs": [],
   "source": [
    "#Saving quantized har\n",
    "quantized_model_har_path = '{}_quantized_model.har'.format(model_name)\n",
    "runner.save_har(quantized_model_har_path)"
   ]
  }
 ],
 "metadata": {
  "kernelspec": {
   "display_name": "Python 3 (ipykernel)",
   "language": "python",
   "name": "python3"
  },
  "language_info": {
   "codemirror_mode": {
    "name": "ipython",
    "version": 3
   },
   "file_extension": ".py",
   "mimetype": "text/x-python",
   "name": "python",
   "nbconvert_exporter": "python",
   "pygments_lexer": "ipython3",
   "version": "3.8.10"
  }
 },
 "nbformat": 4,
 "nbformat_minor": 5
}
